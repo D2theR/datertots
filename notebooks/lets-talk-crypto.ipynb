{
 "cells": [
  {
   "cell_type": "code",
   "execution_count": 2,
   "metadata": {},
   "outputs": [],
   "source": [
    "from math import log"
   ]
  },
  {
   "cell_type": "markdown",
   "metadata": {},
   "source": [
    "# Lets talk about crypo\n",
    "<code>tag: linux, security, crypto</code>\n",
    "<author>Steeltoedpancake</author>\n",
    "## What is SFTP?\n",
    "SFTP is a file transfer protocol used to transmit data over a secure (encrypted) channel. This data can be any type of file you can imagine. \n",
    "While SFTP can be setup in a few different ways, I would strongly reccomend that you make use of public/private key system to secure your SFTP comunications. This is crucial if you are in a situatuion where you need to transmit data that is subject to HIPA, and in general it is still a really good idea in general for all data transfer needs.  "
   ]
  },
  {
   "cell_type": "markdown",
   "metadata": {},
   "source": [
    "## What is the difference between public and private keys?\n",
    "\n",
    "public key cryptography is a method for comunicating securely over an insecure channel (like the internet). the idea is that we divide our encryption key into two parts. the first part is called our public key, this is the key we can share with the world. your public key is sort of like telling someone your first name, it gives that person a way to identify you so that they can comunicate with you in a secure fashion. public keys are usualy denoted with the ```python.pub``` file extension. The other part of our key is called the private key, the secrecy of this file is what allow a public key cryptographic system to work. Your private key is sort of like your Social Security Number, there is not any reason at all that you should ever give your private key to anyone. "
   ]
  },
  {
   "cell_type": "markdown",
   "metadata": {},
   "source": [
    "## Why should I use public key?\n",
    "we use a measure called entropy to compare the security of different systems. \n",
    "\n",
    "$ L \\log_2 N $ where L is the length or number of charecters in your password and N is the number of bits of entropy that a single charecter will generate.  \n",
    "\n",
    "\n",
    "public key cryptography provides other benfits over using a traditonal password approach. public key systems were created "
   ]
  },
  {
   "cell_type": "code",
   "execution_count": 5,
   "metadata": {},
   "outputs": [
    {
     "data": {
      "text/plain": [
       "5.954196310386876"
      ]
     },
     "execution_count": 5,
     "metadata": {},
     "output_type": "execute_result"
    }
   ],
   "source": [
    " log(62,2)"
   ]
  },
  {
   "cell_type": "markdown",
   "metadata": {},
   "source": [
    "## How do I use SFTP"
   ]
  },
  {
   "cell_type": "code",
   "execution_count": null,
   "metadata": {},
   "outputs": [],
   "source": []
  }
 ],
 "metadata": {
  "kernelspec": {
   "display_name": "Python 3",
   "language": "python",
   "name": "python3"
  },
  "language_info": {
   "codemirror_mode": {
    "name": "ipython",
    "version": 3
   },
   "file_extension": ".py",
   "mimetype": "text/x-python",
   "name": "python",
   "nbconvert_exporter": "python",
   "pygments_lexer": "ipython3",
   "version": "3.8.0"
  }
 },
 "nbformat": 4,
 "nbformat_minor": 4
}
