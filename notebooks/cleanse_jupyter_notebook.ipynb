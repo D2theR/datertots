{
 "cells": [
  {
   "cell_type": "markdown",
   "metadata": {},
   "source": [
    "\n",
    "# Modifying Jupyter Notebook on save\n",
    "<author>Dan Rerko</author> \n",
    "<code>tags: jupyter-notebook, python, javascript, vuejs</code>\n",
    "\n",
    "_This custom config file will export Jupyter Notebooks `.ipynb` files as blog posts!_\n",
    "\n",
    "It can be used from the command line like so:\n",
    "\n",
    "<code>jupyter notebook --config=\"./scripts/jupyter_notebook_config.py\"</code>\n",
    "\n",
    "Whenever you need to write a new blog post it will autosave and HTML file to the sites\n",
    "directory."
   ]
  },
  {
   "cell_type": "markdown",
   "metadata": {
    "scrolled": true
   },
   "source": [
    "```Python\n",
    "#This script helps make the site work!\n",
    "# Extra configurations file for jupyter-notebook.\n",
    "import io\n",
    "import os\n",
    "from notebook.utils import to_api_path\n",
    "from bs4 import BeautifulSoup\n",
    "\n",
    "_html_exporter = None\n",
    "\n",
    "\n",
    "def deploy_post(jupyter_html):\n",
    "    \"\"\"Parses jupyter notebook html file into readable HTML container for blog post deployment.\n",
    "    \"\"\"\n",
    "    post = BeautifulSoup(jupyter_html, 'lxml')\n",
    "\n",
    "    for ele in post.find_all(\"div\", class_=\"prompt input_prompt\"):\n",
    "        ele.decompose()\n",
    "\n",
    "    for ele in post.find_all(\"div\", class_=\"prompt output_prompt\"):\n",
    "        ele.decompose()\n",
    "\n",
    "    return str(post)\n",
    "\n",
    "\n",
    "def html_post_save(model, os_path, contents_manager, **kwargs):\n",
    "    \"\"\"Converts notebooks to HTML after save with nbconvert's HTMLExporter\n",
    "    \"\"\"\n",
    "    from nbconvert.exporters.html import HTMLExporter\n",
    "\n",
    "    if model['type'] != 'notebook':\n",
    "        return\n",
    "\n",
    "    global _html_exporter\n",
    "\n",
    "    if _html_exporter is None:\n",
    "        _html_exporter = HTMLExporter(parent=contents_manager)\n",
    "\n",
    "    log = contents_manager.log\n",
    "\n",
    "    base, ext = os.path.splitext(os_path)\n",
    "    html, resources = _html_exporter.from_filename(os_path)\n",
    "    html_fname = base + resources.get('output_extension', '.html')\n",
    "    log.info(\"Saving HTML blog post /%s\",\n",
    "             to_api_path(html_fname, contents_manager.root_dir))\n",
    "\n",
    "    with io.open(html_fname, 'w', encoding='utf-8') as f:\n",
    "        # Parse html file above using BeautifulSoup4\n",
    "        parsed_html = deploy_post(html)\n",
    "        f.write(parsed_html)\n",
    "\n",
    "\n",
    "c.FileContentsManager.post_save_hook = html_post_save\n",
    "```"
   ]
  }
 ],
 "metadata": {
  "kernelspec": {
   "display_name": "Python 3",
   "language": "python",
   "name": "python3"
  },
  "language_info": {
   "codemirror_mode": {
    "name": "ipython",
    "version": 3
   },
   "file_extension": ".py",
   "mimetype": "text/x-python",
   "name": "python",
   "nbconvert_exporter": "python",
   "pygments_lexer": "ipython3",
   "version": "3.8.0"
  }
 },
 "nbformat": 4,
 "nbformat_minor": 4
}
