{
 "cells": [
  {
   "cell_type": "markdown",
   "metadata": {},
   "source": [
    "# ![](./static_site/src/logo.png)\n",
    "\n",
    "### Installation\n",
    "\n",
    "Run the <code>install_env.sh</code> script to install local repository for writing blog posts in Jupyter Notebook.\n",
    "\n",
    "---\n",
    "\n",
    "### Usage\n",
    "\n",
    "Within the install virtual enviroment run\n",
    "\n",
    "<code>jupyter notebook --config=\"./scripts/jupyter_notebook_config.py\"</code>\n",
    "\n",
    "The extra config file generates an .html file in /blogs directory in addition to creating a .ipynb file when saving a notebook.\n",
    "It strips some of the input `<div>` tags out of the blogs HTML file to make them a little \"prettier\" and\n",
    "also makes and entry for the post in blogs/posts.json\n",
    "\n",
    "For more details see the ![notebooks/Blog-post-template.ipynb](./notebooks/Blog-post-template.ipynb) file to get started.\n"
   ]
  }
 ],
 "metadata": {
  "kernelspec": {
   "display_name": "Python 3",
   "language": "python",
   "name": "python3"
  },
  "language_info": {
   "codemirror_mode": {
    "name": "ipython",
    "version": 3
   },
   "file_extension": ".py",
   "mimetype": "text/x-python",
   "name": "python",
   "nbconvert_exporter": "python",
   "pygments_lexer": "ipython3",
   "version": "3.8.0"
  }
 },
 "nbformat": 4,
 "nbformat_minor": 4
}
